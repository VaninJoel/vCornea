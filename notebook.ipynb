{
 "cells": [
  {
   "cell_type": "code",
   "execution_count": 1,
   "metadata": {},
   "outputs": [
    {
     "name": "stdout",
     "output_type": "stream",
     "text": [
      "4.5.0\n"
     ]
    }
   ],
   "source": [
    "import cc3d\n",
    "print(cc3d.__version__)"
   ]
  },
  {
   "cell_type": "code",
   "execution_count": 2,
   "metadata": {},
   "outputs": [
    {
     "ename": "PermissionError",
     "evalue": "[Errno 13] Permission denied: 'C:\\\\Users\\\\joelv\\\\Documents\\\\GitHub\\\\vCornea\\\\Epithelium\\\\Local\\\\Project\\\\paper_version'",
     "output_type": "error",
     "traceback": [
      "\u001b[1;31m---------------------------------------------------------------------------\u001b[0m",
      "\u001b[1;31mPermissionError\u001b[0m                           Traceback (most recent call last)",
      "Cell \u001b[1;32mIn[2], line 35\u001b[0m\n\u001b[0;32m     31\u001b[0m     \u001b[38;5;28mprint\u001b[39m(\u001b[38;5;124m'\u001b[39m\u001b[38;5;124mreturn values\u001b[39m\u001b[38;5;124m'\u001b[39m, ret_values)\n\u001b[0;32m     34\u001b[0m \u001b[38;5;28;01mif\u001b[39;00m \u001b[38;5;18m__name__\u001b[39m \u001b[38;5;241m==\u001b[39m \u001b[38;5;124m'\u001b[39m\u001b[38;5;124m__main__\u001b[39m\u001b[38;5;124m'\u001b[39m:\n\u001b[1;32m---> 35\u001b[0m     \u001b[43mmain\u001b[49m\u001b[43m(\u001b[49m\u001b[43m)\u001b[49m\n",
      "Cell \u001b[1;32mIn[2], line 28\u001b[0m, in \u001b[0;36mmain\u001b[1;34m()\u001b[0m\n\u001b[0;32m     19\u001b[0m \u001b[38;5;28;01mfor\u001b[39;00m i, sim_fname \u001b[38;5;129;01min\u001b[39;00m \u001b[38;5;28menumerate\u001b[39m(sim_fnames):\n\u001b[0;32m     20\u001b[0m     cc3d_caller \u001b[38;5;241m=\u001b[39m CC3DCaller(\n\u001b[0;32m     21\u001b[0m         cc3d_sim_fname\u001b[38;5;241m=\u001b[39msim_fname,\n\u001b[0;32m     22\u001b[0m         screenshot_output_frequency\u001b[38;5;241m=\u001b[39m\u001b[38;5;241m10\u001b[39m,\n\u001b[1;32m   (...)\u001b[0m\n\u001b[0;32m     25\u001b[0m         result_identifier_tag\u001b[38;5;241m=\u001b[39mi\n\u001b[0;32m     26\u001b[0m     )\n\u001b[1;32m---> 28\u001b[0m     ret_value \u001b[38;5;241m=\u001b[39m \u001b[43mcc3d_caller\u001b[49m\u001b[38;5;241;43m.\u001b[39;49m\u001b[43mrun\u001b[49m\u001b[43m(\u001b[49m\u001b[43m)\u001b[49m\n\u001b[0;32m     29\u001b[0m     ret_values\u001b[38;5;241m.\u001b[39mappend(ret_value)\n\u001b[0;32m     31\u001b[0m \u001b[38;5;28mprint\u001b[39m(\u001b[38;5;124m'\u001b[39m\u001b[38;5;124mreturn values\u001b[39m\u001b[38;5;124m'\u001b[39m, ret_values)\n",
      "File \u001b[1;32mc:\\Users\\joelv\\anaconda3\\envs\\cc3d_4_5\\lib\\site-packages\\cc3d\\CompuCellSetup\\CC3DCaller.py:61\u001b[0m, in \u001b[0;36mCC3DCaller.run\u001b[1;34m(self)\u001b[0m\n\u001b[0;32m     57\u001b[0m \u001b[38;5;28mself\u001b[39m\u001b[38;5;241m.\u001b[39minit_simulation()\n\u001b[0;32m     59\u001b[0m rollback_importer \u001b[38;5;241m=\u001b[39m RollbackImporter()\n\u001b[1;32m---> 61\u001b[0m \u001b[43mrun_cc3d_project\u001b[49m\u001b[43m(\u001b[49m\u001b[43mcc3d_sim_fname\u001b[49m\u001b[38;5;241;43m=\u001b[39;49m\u001b[38;5;28;43mself\u001b[39;49m\u001b[38;5;241;43m.\u001b[39;49m\u001b[43mcc3d_sim_fname\u001b[49m\u001b[43m)\u001b[49m\n\u001b[0;32m     63\u001b[0m rollback_importer\u001b[38;5;241m.\u001b[39muninstall()\n\u001b[0;32m     65\u001b[0m persistent_globals \u001b[38;5;241m=\u001b[39m cc3d\u001b[38;5;241m.\u001b[39mCompuCellSetup\u001b[38;5;241m.\u001b[39mpersistent_globals\n",
      "File \u001b[1;32mc:\\Users\\joelv\\anaconda3\\envs\\cc3d_4_5\\lib\\site-packages\\cc3d\\CompuCellSetup\\sim_runner.py:55\u001b[0m, in \u001b[0;36mrun_cc3d_project\u001b[1;34m(cc3d_sim_fname)\u001b[0m\n\u001b[0;32m     48\u001b[0m \u001b[38;5;250m\u001b[39m\u001b[38;5;124;03m\"\"\"\u001b[39;00m\n\u001b[0;32m     49\u001b[0m \n\u001b[0;32m     50\u001b[0m \u001b[38;5;124;03m:param cc3d_sim_fname:\u001b[39;00m\n\u001b[0;32m     51\u001b[0m \u001b[38;5;124;03m:return:\u001b[39;00m\n\u001b[0;32m     52\u001b[0m \u001b[38;5;124;03m\"\"\"\u001b[39;00m\n\u001b[0;32m     54\u001b[0m \u001b[38;5;28;01mtry\u001b[39;00m:\n\u001b[1;32m---> 55\u001b[0m     cc3d_simulation_data_handler \u001b[38;5;241m=\u001b[39m \u001b[43mreadCC3DFile\u001b[49m\u001b[43m(\u001b[49m\u001b[43mfileName\u001b[49m\u001b[38;5;241;43m=\u001b[39;49m\u001b[43mcc3d_sim_fname\u001b[49m\u001b[43m)\u001b[49m\n\u001b[0;32m     56\u001b[0m \u001b[38;5;28;01mexcept\u001b[39;00m \u001b[38;5;167;01mFileNotFoundError\u001b[39;00m:\n\u001b[0;32m     57\u001b[0m     \u001b[38;5;28mprint\u001b[39m(\u001b[38;5;124m'\u001b[39m\u001b[38;5;124mCould not find cc3d_sim_fname\u001b[39m\u001b[38;5;124m'\u001b[39m)\n",
      "File \u001b[1;32mc:\\Users\\joelv\\anaconda3\\envs\\cc3d_4_5\\lib\\site-packages\\cc3d\\CompuCellSetup\\readers.py:11\u001b[0m, in \u001b[0;36mreadCC3DFile\u001b[1;34m(fileName)\u001b[0m\n\u001b[0;32m      4\u001b[0m \u001b[38;5;250m\u001b[39m\u001b[38;5;124;03m\"\"\"\u001b[39;00m\n\u001b[0;32m      5\u001b[0m \u001b[38;5;124;03mreads .cc3d file\u001b[39;00m\n\u001b[0;32m      6\u001b[0m \u001b[38;5;124;03m:param fileName:{str}\u001b[39;00m\n\u001b[0;32m      7\u001b[0m \u001b[38;5;124;03m:return: {object: cc3dSimulationDataHandler}\u001b[39;00m\n\u001b[0;32m      8\u001b[0m \u001b[38;5;124;03m\"\"\"\u001b[39;00m\n\u001b[0;32m     10\u001b[0m cc3dSimulationDataHandler \u001b[38;5;241m=\u001b[39m CC3DSimulationDataHandler(\u001b[38;5;28;01mNone\u001b[39;00m)\n\u001b[1;32m---> 11\u001b[0m \u001b[43mcc3dSimulationDataHandler\u001b[49m\u001b[38;5;241;43m.\u001b[39;49m\u001b[43mread_cc3_d_file_format\u001b[49m\u001b[43m(\u001b[49m\u001b[43mfileName\u001b[49m\u001b[43m)\u001b[49m\n\u001b[0;32m     12\u001b[0m \u001b[38;5;28mprint\u001b[39m(cc3dSimulationDataHandler\u001b[38;5;241m.\u001b[39mcc3dSimulationData)\n\u001b[0;32m     14\u001b[0m \u001b[38;5;28;01mreturn\u001b[39;00m cc3dSimulationDataHandler\n",
      "File \u001b[1;32mc:\\Users\\joelv\\anaconda3\\envs\\cc3d_4_5\\lib\\site-packages\\cc3d\\core\\CC3DSimulationDataHandler.py:370\u001b[0m, in \u001b[0;36mCC3DSimulationDataHandler.read_cc3_d_file_format\u001b[1;34m(self, file_name)\u001b[0m\n\u001b[0;32m    367\u001b[0m bp \u001b[38;5;241m=\u001b[39m \u001b[38;5;28mself\u001b[39m\u001b[38;5;241m.\u001b[39mcc3dSimulationData\u001b[38;5;241m.\u001b[39mbasePath\n\u001b[0;32m    369\u001b[0m \u001b[38;5;66;03m# Read the .cc3d xml and get the root element\u001b[39;00m\n\u001b[1;32m--> 370\u001b[0m root_element \u001b[38;5;241m=\u001b[39m \u001b[43mxml2_obj_converter\u001b[49m\u001b[38;5;241;43m.\u001b[39;49m\u001b[43mParse\u001b[49m\u001b[43m(\u001b[49m\u001b[43mfile_full_path\u001b[49m\u001b[43m)\u001b[49m  \u001b[38;5;66;03m# this is simulation element\u001b[39;00m\n\u001b[0;32m    372\u001b[0m \u001b[38;5;66;03m# Check if custom settings file (Simulation/_settings.xml) exists.\u001b[39;00m\n\u001b[0;32m    373\u001b[0m custom_settings_flag \u001b[38;5;241m=\u001b[39m os\u001b[38;5;241m.\u001b[39mpath\u001b[38;5;241m.\u001b[39misfile(\n\u001b[0;32m    374\u001b[0m     os\u001b[38;5;241m.\u001b[39mpath\u001b[38;5;241m.\u001b[39mjoin(\u001b[38;5;28mself\u001b[39m\u001b[38;5;241m.\u001b[39mcc3dSimulationData\u001b[38;5;241m.\u001b[39mbasePath, \u001b[38;5;124m'\u001b[39m\u001b[38;5;124mSimulation\u001b[39m\u001b[38;5;124m'\u001b[39m, settings_data\u001b[38;5;241m.\u001b[39mSETTINGS_FILE_NAME))\n",
      "File \u001b[1;32mc:\\Users\\joelv\\anaconda3\\envs\\cc3d_4_5\\lib\\site-packages\\cc3d\\core\\XMLUtils.py:182\u001b[0m, in \u001b[0;36mXml2Obj.Parse\u001b[1;34m(self, filename)\u001b[0m\n\u001b[0;32m    180\u001b[0m Parser\u001b[38;5;241m.\u001b[39mEndElementHandler \u001b[38;5;241m=\u001b[39m \u001b[38;5;28mself\u001b[39m\u001b[38;5;241m.\u001b[39mEndElement\n\u001b[0;32m    181\u001b[0m Parser\u001b[38;5;241m.\u001b[39mCharacterDataHandler \u001b[38;5;241m=\u001b[39m \u001b[38;5;28mself\u001b[39m\u001b[38;5;241m.\u001b[39mCharacterData\n\u001b[1;32m--> 182\u001b[0m file_handle \u001b[38;5;241m=\u001b[39m \u001b[38;5;28;43mopen\u001b[39;49m\u001b[43m(\u001b[49m\u001b[43mfilename\u001b[49m\u001b[43m)\u001b[49m\n\u001b[0;32m    184\u001b[0m ParserStatus \u001b[38;5;241m=\u001b[39m Parser\u001b[38;5;241m.\u001b[39mParse(file_handle\u001b[38;5;241m.\u001b[39mread(), \u001b[38;5;241m1\u001b[39m)\n\u001b[0;32m    185\u001b[0m file_handle\u001b[38;5;241m.\u001b[39mclose()\n",
      "\u001b[1;31mPermissionError\u001b[0m: [Errno 13] Permission denied: 'C:\\\\Users\\\\joelv\\\\Documents\\\\GitHub\\\\vCornea\\\\Epithelium\\\\Local\\\\Project\\\\paper_version'"
     ]
    }
   ],
   "source": [
    "from os.path import dirname, join, expanduser\n",
    "from cc3d.CompuCellSetup.CC3DCaller import CC3DCaller\n",
    "from cc3d.CompuCellSetup.CC3DPy import CC3DPySim\n",
    "\n",
    "def main():\n",
    "\n",
    "    number_of_runs = 1\n",
    "\n",
    "    # You may put a direct path to a simulation of your choice here and comment out simulation_fname line below\n",
    "    # simulation_fname = <direct path your simulation>\n",
    "    simulation_fname = \"C:/Users/joelv/Documents/GitHub/vCornea/Epithelium/Local/Project/paper_version/\"\n",
    "    root_output_folder = join(expanduser('~'), 'CC3DCallerOutput')\n",
    "\n",
    "    # this creates a list of simulation file names where simulation_fname is repeated number_of_runs times\n",
    "    # you can create a list of different simulations if you want.\n",
    "    sim_fnames = [simulation_fname] * number_of_runs\n",
    "\n",
    "    ret_values = []\n",
    "    for i, sim_fname in enumerate(sim_fnames):\n",
    "        cc3d_caller = CC3DCaller(\n",
    "            cc3d_sim_fname=sim_fname,\n",
    "            screenshot_output_frequency=10,\n",
    "            output_dir=join(root_output_folder,f'vCornea_{i}'),\n",
    "            sim_input=i,\n",
    "            result_identifier_tag=i\n",
    "        )\n",
    "\n",
    "        ret_value = cc3d_caller.run()\n",
    "        ret_values.append(ret_value)\n",
    "\n",
    "    print('return values', ret_values)\n",
    "\n",
    "\n",
    "if __name__ == '__main__':\n",
    "    main()"
   ]
  }
 ],
 "metadata": {
  "kernelspec": {
   "display_name": "cc3d_4_5",
   "language": "python",
   "name": "python3"
  },
  "language_info": {
   "codemirror_mode": {
    "name": "ipython",
    "version": 3
   },
   "file_extension": ".py",
   "mimetype": "text/x-python",
   "name": "python",
   "nbconvert_exporter": "python",
   "pygments_lexer": "ipython3",
   "version": "3.10.13"
  }
 },
 "nbformat": 4,
 "nbformat_minor": 2
}
